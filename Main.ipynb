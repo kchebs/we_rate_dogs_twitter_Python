{
 "cells": [
  {
   "cell_type": "markdown",
   "metadata": {},
   "source": [
    "# Introduction"
   ]
  },
  {
   "cell_type": "markdown",
   "metadata": {},
   "source": [
    "The goal of this project is to analyze non-normal distributed data of open source GitHub projects.\n",
    "\n",
    "The project should show an ability to explore data, handle ambiguity, and weave insights into a narrative. It should have well-formed observations and display an understanding of the nuances of the data."
   ]
  },
  {
   "cell_type": "code",
   "execution_count": 2,
   "metadata": {},
   "outputs": [],
   "source": [
    "# Import required modules\n",
    "import pandas as pd\n",
    "import matplotlib.pyplot as plt\n",
    "import numpy as np\n",
    "from datetime import timedelta\n",
    "from scipy import stats\n",
    "import seaborn as sns\n",
    "import matplotlib.pyplot as plt"
   ]
  },
  {
   "cell_type": "markdown",
   "metadata": {},
   "source": [
    "# Variable Definition"
   ]
  },
  {
   "cell_type": "markdown",
   "metadata": {},
   "source": [
    "Usage represents the time consumed by a build, with the time determined by:\n",
    "- ended_at - started_at = time of usage = duration\n",
    "\n",
    "Accounts represent the top-level entities that own and manage projects. Accounts can have many projects, while projects are tied to accounts in a many-to-one relationship.\n",
    "\n",
    "Projects represent the repositories of code stored and managed on GitHub. Project size is measured in compressed kilobytes (KB).\n",
    "\n",
    "Actors are users that have triggered builds (creating usage records) on a project. Actors have permissions to trigger builds across many projects. Actors can sometimes not be people - such as machine/bot/API users.\n",
    "\n",
    "It is possible for an actor to trigger 2 builds on 2 projects - with one belonging to account A and another belonging to account B. Example\n",
    "\n",
    "Example - Kevin Actor can work on Stock Project, Employee Project, and Home Project. Stock Project and Employee Project are owned by Corp Account. Stock Project and Employee Project can also be edited by John Actor and Jane Actor. Home Project is owned by Family Account."
   ]
  },
  {
   "cell_type": "markdown",
   "metadata": {},
   "source": [
    "# Data Extraction"
   ]
  },
  {
   "cell_type": "markdown",
   "metadata": {},
   "source": [
    "The dataset is provided from two files \"usage.csv\" and \"projects.csv\". They are selected usage records of open source GitHub projects."
   ]
  },
  {
   "cell_type": "code",
   "execution_count": 3,
   "metadata": {
    "scrolled": false
   },
   "outputs": [
    {
     "name": "stdout",
     "output_type": "stream",
     "text": [
      "<class 'pandas.core.frame.DataFrame'>\n",
      "RangeIndex: 566094 entries, 0 to 566093\n",
      "Data columns (total 6 columns):\n",
      "id            566094 non-null object\n",
      "actor_id      444652 non-null object\n",
      "project_id    566094 non-null object\n",
      "account_id    566094 non-null object\n",
      "started_at    566094 non-null object\n",
      "ended_at      566094 non-null object\n",
      "dtypes: object(6)\n",
      "memory usage: 25.9+ MB\n"
     ]
    }
   ],
   "source": [
    "usage = pd.read_csv(\"usage.csv\")\n",
    "\n",
    "# To view initial structure of dataset\n",
    "usage.info()"
   ]
  },
  {
   "cell_type": "markdown",
   "metadata": {},
   "source": [
    "There are 566094 observations/rows in usage and 6 columns/variables. Every column, except for the actor_id has non-null values."
   ]
  },
  {
   "cell_type": "code",
   "execution_count": 4,
   "metadata": {
    "scrolled": true
   },
   "outputs": [
    {
     "name": "stdout",
     "output_type": "stream",
     "text": [
      "<class 'pandas.core.frame.DataFrame'>\n",
      "RangeIndex: 12907 entries, 0 to 12906\n",
      "Data columns (total 2 columns):\n",
      "project_id      12907 non-null object\n",
      "project_size    12906 non-null float64\n",
      "dtypes: float64(1), object(1)\n",
      "memory usage: 201.8+ KB\n"
     ]
    }
   ],
   "source": [
    "project = pd.read_csv(\"projects.csv\")\n",
    "project.columns=['project_id','project_size']\n",
    "project.info()"
   ]
  },
  {
   "cell_type": "markdown",
   "metadata": {},
   "source": [
    "The initial view of the projects data file shows that there is 1 null value."
   ]
  },
  {
   "cell_type": "code",
   "execution_count": 5,
   "metadata": {},
   "outputs": [],
   "source": [
    "# Merging two datasets\n",
    "merged = pd.merge(usage, project, on='project_id', how='outer')"
   ]
  },
  {
   "cell_type": "markdown",
   "metadata": {},
   "source": [
    "A merger method of \"outer\" was chosen because it is unknown if both files reference all and only all the same projects and \"inner\" would have lost data if that was the case."
   ]
  },
  {
   "cell_type": "code",
   "execution_count": 6,
   "metadata": {
    "scrolled": true
   },
   "outputs": [
    {
     "name": "stdout",
     "output_type": "stream",
     "text": [
      "<class 'pandas.core.frame.DataFrame'>\n",
      "Int64Index: 566094 entries, 0 to 566093\n",
      "Data columns (total 7 columns):\n",
      "id              566094 non-null object\n",
      "actor_id        444652 non-null object\n",
      "project_id      566094 non-null object\n",
      "account_id      566094 non-null object\n",
      "started_at      566094 non-null object\n",
      "ended_at        566094 non-null object\n",
      "project_size    563510 non-null float64\n",
      "dtypes: float64(1), object(6)\n",
      "memory usage: 34.6+ MB\n"
     ]
    }
   ],
   "source": [
    "merged.info()"
   ]
  },
  {
   "cell_type": "markdown",
   "metadata": {},
   "source": [
    "The null values show that there were instances were these two data files did not perfectly overlap."
   ]
  },
  {
   "cell_type": "code",
   "execution_count": 7,
   "metadata": {
    "scrolled": true
   },
   "outputs": [
    {
     "data": {
      "text/html": [
       "<div>\n",
       "<style scoped>\n",
       "    .dataframe tbody tr th:only-of-type {\n",
       "        vertical-align: middle;\n",
       "    }\n",
       "\n",
       "    .dataframe tbody tr th {\n",
       "        vertical-align: top;\n",
       "    }\n",
       "\n",
       "    .dataframe thead th {\n",
       "        text-align: right;\n",
       "    }\n",
       "</style>\n",
       "<table border=\"1\" class=\"dataframe\">\n",
       "  <thead>\n",
       "    <tr style=\"text-align: right;\">\n",
       "      <th></th>\n",
       "      <th>id</th>\n",
       "      <th>actor_id</th>\n",
       "      <th>project_id</th>\n",
       "      <th>account_id</th>\n",
       "      <th>started_at</th>\n",
       "      <th>ended_at</th>\n",
       "      <th>project_size</th>\n",
       "    </tr>\n",
       "  </thead>\n",
       "  <tbody>\n",
       "    <tr>\n",
       "      <th>0</th>\n",
       "      <td>203b6671f5eb871f80a6f77ddf728d0772b015c8835641...</td>\n",
       "      <td>403d10c03541d408e2765e98a2d7148f14e3e27af64fca...</td>\n",
       "      <td>59934a8223a2a0b48f04807cff77277def7f464619e83b...</td>\n",
       "      <td>7bb8bcf4215339f3658713e90eba527d8a36b7934bdd2d...</td>\n",
       "      <td>58:42.5</td>\n",
       "      <td>00:02.3</td>\n",
       "      <td>67.0</td>\n",
       "    </tr>\n",
       "    <tr>\n",
       "      <th>1</th>\n",
       "      <td>234f9e21ab31623c42dec8598f3c6ed400a747f739cddc...</td>\n",
       "      <td>403d10c03541d408e2765e98a2d7148f14e3e27af64fca...</td>\n",
       "      <td>59934a8223a2a0b48f04807cff77277def7f464619e83b...</td>\n",
       "      <td>7bb8bcf4215339f3658713e90eba527d8a36b7934bdd2d...</td>\n",
       "      <td>00:55.5</td>\n",
       "      <td>02:13.9</td>\n",
       "      <td>67.0</td>\n",
       "    </tr>\n",
       "    <tr>\n",
       "      <th>2</th>\n",
       "      <td>232191a86bf6f0618e1f7f7647cd80d69774eeca142910...</td>\n",
       "      <td>403d10c03541d408e2765e98a2d7148f14e3e27af64fca...</td>\n",
       "      <td>59934a8223a2a0b48f04807cff77277def7f464619e83b...</td>\n",
       "      <td>7bb8bcf4215339f3658713e90eba527d8a36b7934bdd2d...</td>\n",
       "      <td>05:05.8</td>\n",
       "      <td>05:46.0</td>\n",
       "      <td>67.0</td>\n",
       "    </tr>\n",
       "    <tr>\n",
       "      <th>3</th>\n",
       "      <td>7809e68a6bf508db311ebeb25541f9f360d3795c0e8b28...</td>\n",
       "      <td>403d10c03541d408e2765e98a2d7148f14e3e27af64fca...</td>\n",
       "      <td>59934a8223a2a0b48f04807cff77277def7f464619e83b...</td>\n",
       "      <td>7bb8bcf4215339f3658713e90eba527d8a36b7934bdd2d...</td>\n",
       "      <td>07:26.7</td>\n",
       "      <td>08:46.0</td>\n",
       "      <td>67.0</td>\n",
       "    </tr>\n",
       "    <tr>\n",
       "      <th>4</th>\n",
       "      <td>eb9969106bfbcf32df668190140bb9a3ca55d82dd224b3...</td>\n",
       "      <td>403d10c03541d408e2765e98a2d7148f14e3e27af64fca...</td>\n",
       "      <td>59934a8223a2a0b48f04807cff77277def7f464619e83b...</td>\n",
       "      <td>7bb8bcf4215339f3658713e90eba527d8a36b7934bdd2d...</td>\n",
       "      <td>07:19.9</td>\n",
       "      <td>08:52.2</td>\n",
       "      <td>67.0</td>\n",
       "    </tr>\n",
       "  </tbody>\n",
       "</table>\n",
       "</div>"
      ],
      "text/plain": [
       "                                                  id  \\\n",
       "0  203b6671f5eb871f80a6f77ddf728d0772b015c8835641...   \n",
       "1  234f9e21ab31623c42dec8598f3c6ed400a747f739cddc...   \n",
       "2  232191a86bf6f0618e1f7f7647cd80d69774eeca142910...   \n",
       "3  7809e68a6bf508db311ebeb25541f9f360d3795c0e8b28...   \n",
       "4  eb9969106bfbcf32df668190140bb9a3ca55d82dd224b3...   \n",
       "\n",
       "                                            actor_id  \\\n",
       "0  403d10c03541d408e2765e98a2d7148f14e3e27af64fca...   \n",
       "1  403d10c03541d408e2765e98a2d7148f14e3e27af64fca...   \n",
       "2  403d10c03541d408e2765e98a2d7148f14e3e27af64fca...   \n",
       "3  403d10c03541d408e2765e98a2d7148f14e3e27af64fca...   \n",
       "4  403d10c03541d408e2765e98a2d7148f14e3e27af64fca...   \n",
       "\n",
       "                                          project_id  \\\n",
       "0  59934a8223a2a0b48f04807cff77277def7f464619e83b...   \n",
       "1  59934a8223a2a0b48f04807cff77277def7f464619e83b...   \n",
       "2  59934a8223a2a0b48f04807cff77277def7f464619e83b...   \n",
       "3  59934a8223a2a0b48f04807cff77277def7f464619e83b...   \n",
       "4  59934a8223a2a0b48f04807cff77277def7f464619e83b...   \n",
       "\n",
       "                                          account_id started_at ended_at  \\\n",
       "0  7bb8bcf4215339f3658713e90eba527d8a36b7934bdd2d...    58:42.5  00:02.3   \n",
       "1  7bb8bcf4215339f3658713e90eba527d8a36b7934bdd2d...    00:55.5  02:13.9   \n",
       "2  7bb8bcf4215339f3658713e90eba527d8a36b7934bdd2d...    05:05.8  05:46.0   \n",
       "3  7bb8bcf4215339f3658713e90eba527d8a36b7934bdd2d...    07:26.7  08:46.0   \n",
       "4  7bb8bcf4215339f3658713e90eba527d8a36b7934bdd2d...    07:19.9  08:52.2   \n",
       "\n",
       "   project_size  \n",
       "0          67.0  \n",
       "1          67.0  \n",
       "2          67.0  \n",
       "3          67.0  \n",
       "4          67.0  "
      ]
     },
     "execution_count": 7,
     "metadata": {},
     "output_type": "execute_result"
    }
   ],
   "source": [
    "merged.head()"
   ]
  },
  {
   "cell_type": "markdown",
   "metadata": {},
   "source": [
    "# Data Wrangling/Munging"
   ]
  },
  {
   "cell_type": "code",
   "execution_count": 8,
   "metadata": {
    "scrolled": true
   },
   "outputs": [],
   "source": [
    "# Converting the time columns to time datatypes and adding hours \"00:\" to the format.\n",
    "merged['started_at'] = pd.to_timedelta('00:' + merged['started_at'], errors='coerce') \n",
    "merged['ended_at'] = pd.to_timedelta('00:' + merged['ended_at'], errors='coerce')   "
   ]
  },
  {
   "cell_type": "markdown",
   "metadata": {},
   "source": [
    "Due to the non-powerful nature of my tablet-laptop, I have subsetted the data to 384 observations. This number was determined by calculating the sample size with a population of 566,094 (the total number of observations), a confidence level of 95%, and a margin of error of 5%. Since I am limiting the dataset, I also removed all null values."
   ]
  },
  {
   "cell_type": "code",
   "execution_count": 19,
   "metadata": {},
   "outputs": [
    {
     "name": "stderr",
     "output_type": "stream",
     "text": [
      "C:\\Users\\Kevin\\Anaconda3\\lib\\site-packages\\ipykernel_launcher.py:2: UserWarning: Boolean Series key will be reindexed to match DataFrame index.\n",
      "  \n"
     ]
    }
   ],
   "source": [
    "no_na = merged[pd.notnull(merged['actor_id'])]\n",
    "no_na = no_na[pd.notnull(merged['project_size'])]\n",
    "small = no_na.sample(386) # 2 added because 2 null values may occur later depending on random sampling\n",
    "# Renumbers the index starting at 0\n",
    "small = small.reset_index(drop=True)"
   ]
  },
  {
   "cell_type": "code",
   "execution_count": 20,
   "metadata": {
    "scrolled": true
   },
   "outputs": [
    {
     "data": {
      "text/html": [
       "<div>\n",
       "<style scoped>\n",
       "    .dataframe tbody tr th:only-of-type {\n",
       "        vertical-align: middle;\n",
       "    }\n",
       "\n",
       "    .dataframe tbody tr th {\n",
       "        vertical-align: top;\n",
       "    }\n",
       "\n",
       "    .dataframe thead th {\n",
       "        text-align: right;\n",
       "    }\n",
       "</style>\n",
       "<table border=\"1\" class=\"dataframe\">\n",
       "  <thead>\n",
       "    <tr style=\"text-align: right;\">\n",
       "      <th></th>\n",
       "      <th>id</th>\n",
       "      <th>actor_id</th>\n",
       "      <th>project_id</th>\n",
       "      <th>account_id</th>\n",
       "      <th>started_at</th>\n",
       "      <th>ended_at</th>\n",
       "      <th>project_size</th>\n",
       "    </tr>\n",
       "  </thead>\n",
       "  <tbody>\n",
       "    <tr>\n",
       "      <th>0</th>\n",
       "      <td>869e4ae015d4cffedf6f8d04f9d141f61d8cb1c1744359...</td>\n",
       "      <td>664547bde11e2847958a2409792699dccdddaa51309153...</td>\n",
       "      <td>8f3d9b28c37909105fef4b8e5ee05f83077bfc01c9f176...</td>\n",
       "      <td>eeccd1b657ba995781fb315f165e9be7949dbadf88a42c...</td>\n",
       "      <td>00:11:18.800000</td>\n",
       "      <td>00:11:55.400000</td>\n",
       "      <td>565.0</td>\n",
       "    </tr>\n",
       "    <tr>\n",
       "      <th>1</th>\n",
       "      <td>355b8f9e2240926367bb17f1ea46d41cb0ce7182b45ad1...</td>\n",
       "      <td>a85a31af3080fa5654427dd6b5f75d985dfe994ecdd9ed...</td>\n",
       "      <td>65ef3775cfc52281f4b8cf6ef79161ce98881e21a95f3b...</td>\n",
       "      <td>6283f73f80ca64019c6e57177327f7498feb5016f79c3d...</td>\n",
       "      <td>00:09:23.100000</td>\n",
       "      <td>00:14:29.800000</td>\n",
       "      <td>679.0</td>\n",
       "    </tr>\n",
       "    <tr>\n",
       "      <th>2</th>\n",
       "      <td>2d2bfa5f4f189d55d0c257c14d2ce6a6e97965103e5f7b...</td>\n",
       "      <td>1aeb6bed69e3a3480b5a65afcc9b70f381877a01996704...</td>\n",
       "      <td>303617d02bb76b19b059a51e7141b506e0bbbebcfac368...</td>\n",
       "      <td>e565288614b9754b38ebbfc5a9ffe6ab1095a7c7cacbbd...</td>\n",
       "      <td>00:58:20.500000</td>\n",
       "      <td>00:07:36.900000</td>\n",
       "      <td>6614.0</td>\n",
       "    </tr>\n",
       "    <tr>\n",
       "      <th>3</th>\n",
       "      <td>0cb1ed4a877b45f322ebccb1a233012ab2061ec5d86ac5...</td>\n",
       "      <td>0d10b3dc24dd240f842e2cf0fa74d92b6715e100f6ba5c...</td>\n",
       "      <td>ee41c4d3d9f80ff9e553ebbe1c42365c1cd463eacf80c3...</td>\n",
       "      <td>299e0c3a5bb05a67b14c0bb95c85b36ec78118827830ac...</td>\n",
       "      <td>00:17:28.100000</td>\n",
       "      <td>00:17:43.800000</td>\n",
       "      <td>159.0</td>\n",
       "    </tr>\n",
       "    <tr>\n",
       "      <th>4</th>\n",
       "      <td>961e4516c33415041861d46bb5a066a8d4ea8cac4ebdfb...</td>\n",
       "      <td>5a7547d45dae046eb290ea8f03dcc367fa8df4aca6a1fd...</td>\n",
       "      <td>b09d7eac2478c6a629191ca4c5a33b657abe613bb9d246...</td>\n",
       "      <td>ee9092efdb51a207c155324cc95f367213e9705ee350ac...</td>\n",
       "      <td>00:12:16.800000</td>\n",
       "      <td>00:15:24.300000</td>\n",
       "      <td>377.0</td>\n",
       "    </tr>\n",
       "  </tbody>\n",
       "</table>\n",
       "</div>"
      ],
      "text/plain": [
       "                                                  id  \\\n",
       "0  869e4ae015d4cffedf6f8d04f9d141f61d8cb1c1744359...   \n",
       "1  355b8f9e2240926367bb17f1ea46d41cb0ce7182b45ad1...   \n",
       "2  2d2bfa5f4f189d55d0c257c14d2ce6a6e97965103e5f7b...   \n",
       "3  0cb1ed4a877b45f322ebccb1a233012ab2061ec5d86ac5...   \n",
       "4  961e4516c33415041861d46bb5a066a8d4ea8cac4ebdfb...   \n",
       "\n",
       "                                            actor_id  \\\n",
       "0  664547bde11e2847958a2409792699dccdddaa51309153...   \n",
       "1  a85a31af3080fa5654427dd6b5f75d985dfe994ecdd9ed...   \n",
       "2  1aeb6bed69e3a3480b5a65afcc9b70f381877a01996704...   \n",
       "3  0d10b3dc24dd240f842e2cf0fa74d92b6715e100f6ba5c...   \n",
       "4  5a7547d45dae046eb290ea8f03dcc367fa8df4aca6a1fd...   \n",
       "\n",
       "                                          project_id  \\\n",
       "0  8f3d9b28c37909105fef4b8e5ee05f83077bfc01c9f176...   \n",
       "1  65ef3775cfc52281f4b8cf6ef79161ce98881e21a95f3b...   \n",
       "2  303617d02bb76b19b059a51e7141b506e0bbbebcfac368...   \n",
       "3  ee41c4d3d9f80ff9e553ebbe1c42365c1cd463eacf80c3...   \n",
       "4  b09d7eac2478c6a629191ca4c5a33b657abe613bb9d246...   \n",
       "\n",
       "                                          account_id      started_at  \\\n",
       "0  eeccd1b657ba995781fb315f165e9be7949dbadf88a42c... 00:11:18.800000   \n",
       "1  6283f73f80ca64019c6e57177327f7498feb5016f79c3d... 00:09:23.100000   \n",
       "2  e565288614b9754b38ebbfc5a9ffe6ab1095a7c7cacbbd... 00:58:20.500000   \n",
       "3  299e0c3a5bb05a67b14c0bb95c85b36ec78118827830ac... 00:17:28.100000   \n",
       "4  ee9092efdb51a207c155324cc95f367213e9705ee350ac... 00:12:16.800000   \n",
       "\n",
       "         ended_at  project_size  \n",
       "0 00:11:55.400000         565.0  \n",
       "1 00:14:29.800000         679.0  \n",
       "2 00:07:36.900000        6614.0  \n",
       "3 00:17:43.800000         159.0  \n",
       "4 00:15:24.300000         377.0  "
      ]
     },
     "execution_count": 20,
     "metadata": {},
     "output_type": "execute_result"
    }
   ],
   "source": [
    "small.head()"
   ]
  },
  {
   "cell_type": "markdown",
   "metadata": {},
   "source": [
    "Since the imported data only measured time in minutes and seconds, events such as the start time being after the end time occured. This is not possible. Therefore the next code segment checks that the laws of Physics have not been broken. If so, it adds an hour until the end date is after the start date. This results in a more accurate and realistic time of, for example 2 minutes, rather than negative 23 hours and 58 minutes."
   ]
  },
  {
   "cell_type": "code",
   "execution_count": 67,
   "metadata": {},
   "outputs": [
    {
     "name": "stderr",
     "output_type": "stream",
     "text": [
      "C:\\Users\\Kevin\\Anaconda3\\lib\\site-packages\\ipykernel_launcher.py:3: SettingWithCopyWarning: \n",
      "A value is trying to be set on a copy of a slice from a DataFrame\n",
      "\n",
      "See the caveats in the documentation: http://pandas.pydata.org/pandas-docs/stable/indexing.html#indexing-view-versus-copy\n",
      "  This is separate from the ipykernel package so we can avoid doing imports until\n"
     ]
    },
    {
     "ename": "TypeError",
     "evalue": "Cannot compare type 'Timedelta' with type 'NaTType'",
     "output_type": "error",
     "traceback": [
      "\u001b[1;31m---------------------------------------------------------------------------\u001b[0m",
      "\u001b[1;31mTypeError\u001b[0m                                 Traceback (most recent call last)",
      "\u001b[1;32m<ipython-input-67-0f3f17901561>\u001b[0m in \u001b[0;36m<module>\u001b[1;34m()\u001b[0m\n\u001b[0;32m      1\u001b[0m \u001b[1;32mfor\u001b[0m \u001b[0mi\u001b[0m \u001b[1;32min\u001b[0m \u001b[0mrange\u001b[0m\u001b[1;33m(\u001b[0m\u001b[0mmerged\u001b[0m\u001b[1;33m.\u001b[0m\u001b[0mshape\u001b[0m\u001b[1;33m[\u001b[0m\u001b[1;36m0\u001b[0m\u001b[1;33m]\u001b[0m\u001b[1;33m)\u001b[0m\u001b[1;33m:\u001b[0m\u001b[1;33m\u001b[0m\u001b[0m\n\u001b[1;32m----> 2\u001b[1;33m     \u001b[1;32mwhile\u001b[0m \u001b[0mmerged\u001b[0m\u001b[1;33m[\u001b[0m\u001b[1;34m'ended_at'\u001b[0m\u001b[1;33m]\u001b[0m\u001b[1;33m[\u001b[0m\u001b[0mi\u001b[0m\u001b[1;33m]\u001b[0m \u001b[1;33m<\u001b[0m \u001b[0mmerged\u001b[0m\u001b[1;33m[\u001b[0m\u001b[1;34m'started_at'\u001b[0m\u001b[1;33m]\u001b[0m\u001b[1;33m[\u001b[0m\u001b[0mi\u001b[0m\u001b[1;33m]\u001b[0m\u001b[1;33m:\u001b[0m\u001b[1;33m\u001b[0m\u001b[0m\n\u001b[0m\u001b[0;32m      3\u001b[0m         \u001b[0mmerged\u001b[0m\u001b[1;33m[\u001b[0m\u001b[1;34m'ended_at'\u001b[0m\u001b[1;33m]\u001b[0m\u001b[1;33m[\u001b[0m\u001b[0mi\u001b[0m\u001b[1;33m]\u001b[0m \u001b[1;33m=\u001b[0m \u001b[0mmerged\u001b[0m\u001b[1;33m[\u001b[0m\u001b[1;34m'ended_at'\u001b[0m\u001b[1;33m]\u001b[0m\u001b[1;33m[\u001b[0m\u001b[0mi\u001b[0m\u001b[1;33m]\u001b[0m\u001b[1;33m+\u001b[0m\u001b[0mtimedelta\u001b[0m\u001b[1;33m(\u001b[0m\u001b[1;36m0\u001b[0m\u001b[1;33m,\u001b[0m\u001b[1;36m60\u001b[0m\u001b[1;33m*\u001b[0m\u001b[1;36m60\u001b[0m\u001b[1;33m)\u001b[0m\u001b[1;33m\u001b[0m\u001b[0m\n",
      "\u001b[1;32mpandas/_libs/tslib.pyx\u001b[0m in \u001b[0;36mpandas._libs.tslib._Timedelta.__richcmp__\u001b[1;34m()\u001b[0m\n",
      "\u001b[1;31mTypeError\u001b[0m: Cannot compare type 'Timedelta' with type 'NaTType'"
     ]
    }
   ],
   "source": [
    "for i in range(merged.shape[0]):\n",
    "    while merged['ended_at'][i] < merged['started_at'][i]:\n",
    "        merged['ended_at'][i] = merged['ended_at'][i]+timedelta(0,60*60)"
   ]
  },
  {
   "cell_type": "code",
   "execution_count": 21,
   "metadata": {
    "scrolled": false
   },
   "outputs": [
    {
     "name": "stderr",
     "output_type": "stream",
     "text": [
      "C:\\Users\\Kevin\\Anaconda3\\lib\\site-packages\\ipykernel_launcher.py:5: SettingWithCopyWarning: \n",
      "A value is trying to be set on a copy of a slice from a DataFrame\n",
      "\n",
      "See the caveats in the documentation: http://pandas.pydata.org/pandas-docs/stable/indexing.html#indexing-view-versus-copy\n",
      "  \"\"\"\n"
     ]
    }
   ],
   "source": [
    "i=0\n",
    "while i < len(small):\n",
    "    try:\n",
    "        while small['ended_at'][i]<small['started_at'][i]:\n",
    "            small['ended_at'][i] = small['ended_at'][i]+timedelta(0,60*60)\n",
    "    except TypeError:\n",
    "        pass\n",
    "    i += 1"
   ]
  },
  {
   "cell_type": "code",
   "execution_count": 22,
   "metadata": {
    "scrolled": true
   },
   "outputs": [
    {
     "data": {
      "text/html": [
       "<div>\n",
       "<style scoped>\n",
       "    .dataframe tbody tr th:only-of-type {\n",
       "        vertical-align: middle;\n",
       "    }\n",
       "\n",
       "    .dataframe tbody tr th {\n",
       "        vertical-align: top;\n",
       "    }\n",
       "\n",
       "    .dataframe thead th {\n",
       "        text-align: right;\n",
       "    }\n",
       "</style>\n",
       "<table border=\"1\" class=\"dataframe\">\n",
       "  <thead>\n",
       "    <tr style=\"text-align: right;\">\n",
       "      <th></th>\n",
       "      <th>id</th>\n",
       "      <th>actor_id</th>\n",
       "      <th>project_id</th>\n",
       "      <th>account_id</th>\n",
       "      <th>started_at</th>\n",
       "      <th>ended_at</th>\n",
       "      <th>project_size</th>\n",
       "      <th>duration</th>\n",
       "    </tr>\n",
       "  </thead>\n",
       "  <tbody>\n",
       "    <tr>\n",
       "      <th>381</th>\n",
       "      <td>bddab8857ea8e259779f77a64742ce1b280de04a57b650...</td>\n",
       "      <td>c9c7d99b6855110c31bbef8bde822303532a9bd61c2de9...</td>\n",
       "      <td>faf3b6b03e721df5a2adc42a7c4623522f724aabb24f6c...</td>\n",
       "      <td>5646e93b05b588b1ab0c09bdc206a3af0e359ff606c121...</td>\n",
       "      <td>00:48:47.200000</td>\n",
       "      <td>01:01:45</td>\n",
       "      <td>3471.0</td>\n",
       "      <td>00:12:57.800000</td>\n",
       "    </tr>\n",
       "    <tr>\n",
       "      <th>382</th>\n",
       "      <td>8e4d490e409c12f57be590316f89a9a008b176cd254a47...</td>\n",
       "      <td>bc63ad540e4691f8a8cf7daa07599509aee5caf93f5822...</td>\n",
       "      <td>fa8f35027c160ed4b3622113065f3721c660fcb98a760c...</td>\n",
       "      <td>b21856613a83206f960b2647f22ed3fc21dcfa67b7704c...</td>\n",
       "      <td>00:13:13.400000</td>\n",
       "      <td>00:15:00.500000</td>\n",
       "      <td>2380.0</td>\n",
       "      <td>00:01:47.100000</td>\n",
       "    </tr>\n",
       "    <tr>\n",
       "      <th>383</th>\n",
       "      <td>5dd4e618a5b0e5cd7fa9d6ce5d45a0ef13936220f1b4c8...</td>\n",
       "      <td>a4f694c36088787aabf2a1ae56cf1d9cf037b9a4a9ba0d...</td>\n",
       "      <td>30d3279bcd55d744158792bbe5d5734db11399e00dd25b...</td>\n",
       "      <td>66758c2dc4a936bcfed83f890ee931754afbc1a86a6298...</td>\n",
       "      <td>00:57:40.900000</td>\n",
       "      <td>00:58:50.600000</td>\n",
       "      <td>14291.0</td>\n",
       "      <td>00:01:09.700000</td>\n",
       "    </tr>\n",
       "    <tr>\n",
       "      <th>384</th>\n",
       "      <td>e645eeec1c59c294a7e92fd52ab116a8ff69c48874627a...</td>\n",
       "      <td>38731e7d14502e26d367516fe04f83595be85f1791148f...</td>\n",
       "      <td>6cd3d5987b025b8fdfcb0a81677e7d212040f48325239f...</td>\n",
       "      <td>ba7c06985945901639dbb024f6138002c113ccd00cc7c9...</td>\n",
       "      <td>00:50:45.600000</td>\n",
       "      <td>00:50:59</td>\n",
       "      <td>24054.0</td>\n",
       "      <td>00:00:13.400000</td>\n",
       "    </tr>\n",
       "    <tr>\n",
       "      <th>385</th>\n",
       "      <td>acdf49c2ad3583f9e320c7be9ed0c47e583453a2674c71...</td>\n",
       "      <td>f9fad860610266fe7c95ee663b04e801a9d242589748e7...</td>\n",
       "      <td>b1df7331c6bfd99644a26a66dee6c24356805346444c64...</td>\n",
       "      <td>1bf90cd364969363baa963e1d7dc97015f019c42cb5e11...</td>\n",
       "      <td>00:08:17.500000</td>\n",
       "      <td>00:12:59.400000</td>\n",
       "      <td>202981.0</td>\n",
       "      <td>00:04:41.900000</td>\n",
       "    </tr>\n",
       "  </tbody>\n",
       "</table>\n",
       "</div>"
      ],
      "text/plain": [
       "                                                    id  \\\n",
       "381  bddab8857ea8e259779f77a64742ce1b280de04a57b650...   \n",
       "382  8e4d490e409c12f57be590316f89a9a008b176cd254a47...   \n",
       "383  5dd4e618a5b0e5cd7fa9d6ce5d45a0ef13936220f1b4c8...   \n",
       "384  e645eeec1c59c294a7e92fd52ab116a8ff69c48874627a...   \n",
       "385  acdf49c2ad3583f9e320c7be9ed0c47e583453a2674c71...   \n",
       "\n",
       "                                              actor_id  \\\n",
       "381  c9c7d99b6855110c31bbef8bde822303532a9bd61c2de9...   \n",
       "382  bc63ad540e4691f8a8cf7daa07599509aee5caf93f5822...   \n",
       "383  a4f694c36088787aabf2a1ae56cf1d9cf037b9a4a9ba0d...   \n",
       "384  38731e7d14502e26d367516fe04f83595be85f1791148f...   \n",
       "385  f9fad860610266fe7c95ee663b04e801a9d242589748e7...   \n",
       "\n",
       "                                            project_id  \\\n",
       "381  faf3b6b03e721df5a2adc42a7c4623522f724aabb24f6c...   \n",
       "382  fa8f35027c160ed4b3622113065f3721c660fcb98a760c...   \n",
       "383  30d3279bcd55d744158792bbe5d5734db11399e00dd25b...   \n",
       "384  6cd3d5987b025b8fdfcb0a81677e7d212040f48325239f...   \n",
       "385  b1df7331c6bfd99644a26a66dee6c24356805346444c64...   \n",
       "\n",
       "                                            account_id      started_at  \\\n",
       "381  5646e93b05b588b1ab0c09bdc206a3af0e359ff606c121... 00:48:47.200000   \n",
       "382  b21856613a83206f960b2647f22ed3fc21dcfa67b7704c... 00:13:13.400000   \n",
       "383  66758c2dc4a936bcfed83f890ee931754afbc1a86a6298... 00:57:40.900000   \n",
       "384  ba7c06985945901639dbb024f6138002c113ccd00cc7c9... 00:50:45.600000   \n",
       "385  1bf90cd364969363baa963e1d7dc97015f019c42cb5e11... 00:08:17.500000   \n",
       "\n",
       "           ended_at  project_size        duration  \n",
       "381        01:01:45        3471.0 00:12:57.800000  \n",
       "382 00:15:00.500000        2380.0 00:01:47.100000  \n",
       "383 00:58:50.600000       14291.0 00:01:09.700000  \n",
       "384        00:50:59       24054.0 00:00:13.400000  \n",
       "385 00:12:59.400000      202981.0 00:04:41.900000  "
      ]
     },
     "execution_count": 22,
     "metadata": {},
     "output_type": "execute_result"
    }
   ],
   "source": [
    "# Calculate duration of each build\n",
    "\n",
    "calc = small.apply(lambda row: row['ended_at'] - row['started_at'], axis = 1)\n",
    "\n",
    "small['duration'] = calc\n",
    "\n",
    "small = small[pd.notnull(small['duration'])]\n",
    "\n",
    "# Check / Test\n",
    "small.tail()"
   ]
  },
  {
   "cell_type": "code",
   "execution_count": 23,
   "metadata": {},
   "outputs": [
    {
     "name": "stdout",
     "output_type": "stream",
     "text": [
      "<class 'pandas.core.frame.DataFrame'>\n",
      "Int64Index: 385 entries, 0 to 385\n",
      "Data columns (total 8 columns):\n",
      "id              385 non-null object\n",
      "actor_id        385 non-null object\n",
      "project_id      385 non-null object\n",
      "account_id      385 non-null object\n",
      "started_at      385 non-null timedelta64[ns]\n",
      "ended_at        385 non-null timedelta64[ns]\n",
      "project_size    385 non-null float64\n",
      "duration        385 non-null timedelta64[ns]\n",
      "dtypes: float64(1), object(4), timedelta64[ns](3)\n",
      "memory usage: 27.1+ KB\n"
     ]
    }
   ],
   "source": [
    "small.info()"
   ]
  },
  {
   "cell_type": "markdown",
   "metadata": {},
   "source": [
    "#  Goals"
   ]
  },
  {
   "cell_type": "markdown",
   "metadata": {},
   "source": [
    "#1 Identify the top 10 actors - by total usage, by accounts, and by projects including the scalar amounts"
   ]
  },
  {
   "cell_type": "code",
   "execution_count": 24,
   "metadata": {},
   "outputs": [
    {
     "data": {
      "text/html": [
       "<div>\n",
       "<style scoped>\n",
       "    .dataframe tbody tr th:only-of-type {\n",
       "        vertical-align: middle;\n",
       "    }\n",
       "\n",
       "    .dataframe tbody tr th {\n",
       "        vertical-align: top;\n",
       "    }\n",
       "\n",
       "    .dataframe thead th {\n",
       "        text-align: right;\n",
       "    }\n",
       "</style>\n",
       "<table border=\"1\" class=\"dataframe\">\n",
       "  <thead>\n",
       "    <tr style=\"text-align: right;\">\n",
       "      <th></th>\n",
       "      <th>duration</th>\n",
       "      <th>Rank</th>\n",
       "    </tr>\n",
       "    <tr>\n",
       "      <th>actor_id</th>\n",
       "      <th></th>\n",
       "      <th></th>\n",
       "    </tr>\n",
       "  </thead>\n",
       "  <tbody>\n",
       "    <tr>\n",
       "      <th>3013dde7ace9d397d341366e1537a9d69baa9e85a9c39350b6e11d3a5b6274cf</th>\n",
       "      <td>00:57:00.300000</td>\n",
       "      <td>0</td>\n",
       "    </tr>\n",
       "    <tr>\n",
       "      <th>2c94eece4864e311cad2de531cc489eda325d1443112bedc8a26233ef18e9c76</th>\n",
       "      <td>00:46:55.500000</td>\n",
       "      <td>1</td>\n",
       "    </tr>\n",
       "    <tr>\n",
       "      <th>f039587254f7ff3c821bc8b5ab3067994cbe7b62ddb7f9522463f812713a12d8</th>\n",
       "      <td>00:46:24.100000</td>\n",
       "      <td>2</td>\n",
       "    </tr>\n",
       "    <tr>\n",
       "      <th>51cd8ba4f047e6d4de764a3fb7592e18b05b04129dfbfccbaca33f4bdf34aab0</th>\n",
       "      <td>00:43:59.200000</td>\n",
       "      <td>3</td>\n",
       "    </tr>\n",
       "    <tr>\n",
       "      <th>975400edff7e6c145dd30ab59ad80dbb79b2ebc5db23ecf112479782b8f75638</th>\n",
       "      <td>00:43:11.500000</td>\n",
       "      <td>4</td>\n",
       "    </tr>\n",
       "    <tr>\n",
       "      <th>3d0bcd5444267924e00765173caaf0ed3542ec01b0cb6d18e88fdf9539bf80ad</th>\n",
       "      <td>00:41:56.100000</td>\n",
       "      <td>5</td>\n",
       "    </tr>\n",
       "    <tr>\n",
       "      <th>1c85940b8e26306f9730dcc43d56264cbee5997d11ccabfb7f38eff8d0d642ad</th>\n",
       "      <td>00:41:16.500000</td>\n",
       "      <td>6</td>\n",
       "    </tr>\n",
       "    <tr>\n",
       "      <th>8cd3a3d0cb07dd4e9e3e4469ee7ab2325c6f4e8c3655889ea7de824a32cca3d0</th>\n",
       "      <td>00:41:08.200000</td>\n",
       "      <td>7</td>\n",
       "    </tr>\n",
       "    <tr>\n",
       "      <th>dcc432547af3137845db52918d2067d9f068ceaade86fb579db149bace544179</th>\n",
       "      <td>00:40:44</td>\n",
       "      <td>8</td>\n",
       "    </tr>\n",
       "    <tr>\n",
       "      <th>7989adbb508d51ab56f9eed8c3ac526f9e91087e766b3cb1a4912d6e453d6906</th>\n",
       "      <td>00:40:19.200000</td>\n",
       "      <td>9</td>\n",
       "    </tr>\n",
       "  </tbody>\n",
       "</table>\n",
       "</div>"
      ],
      "text/plain": [
       "                                                          duration Rank\n",
       "actor_id                                                               \n",
       "3013dde7ace9d397d341366e1537a9d69baa9e85a9c3935... 00:57:00.300000    0\n",
       "2c94eece4864e311cad2de531cc489eda325d1443112bed... 00:46:55.500000    1\n",
       "f039587254f7ff3c821bc8b5ab3067994cbe7b62ddb7f95... 00:46:24.100000    2\n",
       "51cd8ba4f047e6d4de764a3fb7592e18b05b04129dfbfcc... 00:43:59.200000    3\n",
       "975400edff7e6c145dd30ab59ad80dbb79b2ebc5db23ecf... 00:43:11.500000    4\n",
       "3d0bcd5444267924e00765173caaf0ed3542ec01b0cb6d1... 00:41:56.100000    5\n",
       "1c85940b8e26306f9730dcc43d56264cbee5997d11ccabf... 00:41:16.500000    6\n",
       "8cd3a3d0cb07dd4e9e3e4469ee7ab2325c6f4e8c3655889... 00:41:08.200000    7\n",
       "dcc432547af3137845db52918d2067d9f068ceaade86fb5...        00:40:44    8\n",
       "7989adbb508d51ab56f9eed8c3ac526f9e91087e766b3cb... 00:40:19.200000    9"
      ]
     },
     "execution_count": 24,
     "metadata": {},
     "output_type": "execute_result"
    }
   ],
   "source": [
    "# Top 10 Actors by number of total usage = total duration\n",
    "matrix = small\n",
    "matrix = matrix.drop('id',1)\n",
    "matrix = matrix.drop('started_at',1)\n",
    "matrix = matrix.drop('ended_at',1)\n",
    "matrix = matrix.drop('project_id',1)\n",
    "matrix = matrix.drop('project_size',1)\n",
    "matrix = matrix.drop('account_id',1)\n",
    "\n",
    "by_actors = matrix.groupby('actor_id')\n",
    "\n",
    "dur = pd.DataFrame(by_actors.duration.sum().nlargest(10))\n",
    "dur['Rank'] = ['0','1','2','3','4','5','6','7','8','9']\n",
    "dur"
   ]
  },
  {
   "cell_type": "code",
   "execution_count": 25,
   "metadata": {
    "scrolled": true
   },
   "outputs": [
    {
     "data": {
      "text/html": [
       "<div>\n",
       "<style scoped>\n",
       "    .dataframe tbody tr th:only-of-type {\n",
       "        vertical-align: middle;\n",
       "    }\n",
       "\n",
       "    .dataframe tbody tr th {\n",
       "        vertical-align: top;\n",
       "    }\n",
       "\n",
       "    .dataframe thead th {\n",
       "        text-align: right;\n",
       "    }\n",
       "</style>\n",
       "<table border=\"1\" class=\"dataframe\">\n",
       "  <thead>\n",
       "    <tr style=\"text-align: right;\">\n",
       "      <th></th>\n",
       "      <th>account_id</th>\n",
       "      <th>Rank</th>\n",
       "    </tr>\n",
       "    <tr>\n",
       "      <th>actor_id</th>\n",
       "      <th></th>\n",
       "      <th></th>\n",
       "    </tr>\n",
       "  </thead>\n",
       "  <tbody>\n",
       "    <tr>\n",
       "      <th>467a3f755fafd35efc28ff5ebacd193c61c5e9ba388a847cc817dc31d3044a91</th>\n",
       "      <td>28</td>\n",
       "      <td>0</td>\n",
       "    </tr>\n",
       "    <tr>\n",
       "      <th>bc188c488365e40112cd8777498260562997f67fbb5e64745632d3d57492c249</th>\n",
       "      <td>6</td>\n",
       "      <td>1</td>\n",
       "    </tr>\n",
       "    <tr>\n",
       "      <th>597e4ce0a9ceaa8481e296ea0a93a86f265826f3d39c01027de73d09872be7f7</th>\n",
       "      <td>5</td>\n",
       "      <td>2</td>\n",
       "    </tr>\n",
       "    <tr>\n",
       "      <th>4a0df9b06c7e58f5da00f7985ccef6f52ca1fb6a9d714eb68d5861399e023427</th>\n",
       "      <td>4</td>\n",
       "      <td>3</td>\n",
       "    </tr>\n",
       "    <tr>\n",
       "      <th>059b10950ee999efb6a8b69308586198994871484c92c5a3d382b92596f0ae4e</th>\n",
       "      <td>3</td>\n",
       "      <td>4</td>\n",
       "    </tr>\n",
       "    <tr>\n",
       "      <th>23eda967e2fae546ab95c37638703918059751c028808935ff7b4719a152ace2</th>\n",
       "      <td>3</td>\n",
       "      <td>5</td>\n",
       "    </tr>\n",
       "    <tr>\n",
       "      <th>41325d896e948cac459cb3e67736220aa071f5a729b128311f1d53b7a8e4a00a</th>\n",
       "      <td>3</td>\n",
       "      <td>6</td>\n",
       "    </tr>\n",
       "    <tr>\n",
       "      <th>67dccee32f7f347241922b5c7562b8bc73cf39bcb3513a553db013347767ff21</th>\n",
       "      <td>3</td>\n",
       "      <td>7</td>\n",
       "    </tr>\n",
       "    <tr>\n",
       "      <th>6c83fc5ec41ead6ea3336a98e7d3614b98876a2972de11c542770858568d86f4</th>\n",
       "      <td>3</td>\n",
       "      <td>8</td>\n",
       "    </tr>\n",
       "    <tr>\n",
       "      <th>b9330373e4bedeb20a2f69647256a73167024508805f3cd9a152ba6bfdf1e86f</th>\n",
       "      <td>3</td>\n",
       "      <td>9</td>\n",
       "    </tr>\n",
       "  </tbody>\n",
       "</table>\n",
       "</div>"
      ],
      "text/plain": [
       "                                                    account_id Rank\n",
       "actor_id                                                           \n",
       "467a3f755fafd35efc28ff5ebacd193c61c5e9ba388a847...          28    0\n",
       "bc188c488365e40112cd8777498260562997f67fbb5e647...           6    1\n",
       "597e4ce0a9ceaa8481e296ea0a93a86f265826f3d39c010...           5    2\n",
       "4a0df9b06c7e58f5da00f7985ccef6f52ca1fb6a9d714eb...           4    3\n",
       "059b10950ee999efb6a8b69308586198994871484c92c5a...           3    4\n",
       "23eda967e2fae546ab95c37638703918059751c02880893...           3    5\n",
       "41325d896e948cac459cb3e67736220aa071f5a729b1283...           3    6\n",
       "67dccee32f7f347241922b5c7562b8bc73cf39bcb3513a5...           3    7\n",
       "6c83fc5ec41ead6ea3336a98e7d3614b98876a2972de11c...           3    8\n",
       "b9330373e4bedeb20a2f69647256a73167024508805f3cd...           3    9"
      ]
     },
     "execution_count": 25,
     "metadata": {},
     "output_type": "execute_result"
    }
   ],
   "source": [
    "# Top 10 Actors by number of accounts\n",
    "matrix = small\n",
    "matrix = matrix.drop('id',1)\n",
    "matrix = matrix.drop('started_at',1)\n",
    "matrix = matrix.drop('ended_at',1)\n",
    "matrix = matrix.drop('project_id',1)\n",
    "matrix = matrix.drop('project_size',1)\n",
    "matrix = matrix.drop('duration',1)\n",
    "\n",
    "by_actors = matrix.groupby('actor_id')\n",
    "\n",
    "acc = pd.DataFrame(by_actors.account_id.count().nlargest(10))\n",
    "acc['Rank'] = ['0','1','2','3','4','5','6','7','8','9']\n",
    "acc"
   ]
  },
  {
   "cell_type": "code",
   "execution_count": 26,
   "metadata": {},
   "outputs": [
    {
     "data": {
      "text/html": [
       "<div>\n",
       "<style scoped>\n",
       "    .dataframe tbody tr th:only-of-type {\n",
       "        vertical-align: middle;\n",
       "    }\n",
       "\n",
       "    .dataframe tbody tr th {\n",
       "        vertical-align: top;\n",
       "    }\n",
       "\n",
       "    .dataframe thead th {\n",
       "        text-align: right;\n",
       "    }\n",
       "</style>\n",
       "<table border=\"1\" class=\"dataframe\">\n",
       "  <thead>\n",
       "    <tr style=\"text-align: right;\">\n",
       "      <th></th>\n",
       "      <th>project_id</th>\n",
       "      <th>Rank</th>\n",
       "    </tr>\n",
       "    <tr>\n",
       "      <th>actor_id</th>\n",
       "      <th></th>\n",
       "      <th></th>\n",
       "    </tr>\n",
       "  </thead>\n",
       "  <tbody>\n",
       "    <tr>\n",
       "      <th>467a3f755fafd35efc28ff5ebacd193c61c5e9ba388a847cc817dc31d3044a91</th>\n",
       "      <td>28</td>\n",
       "      <td>0</td>\n",
       "    </tr>\n",
       "    <tr>\n",
       "      <th>bc188c488365e40112cd8777498260562997f67fbb5e64745632d3d57492c249</th>\n",
       "      <td>6</td>\n",
       "      <td>1</td>\n",
       "    </tr>\n",
       "    <tr>\n",
       "      <th>597e4ce0a9ceaa8481e296ea0a93a86f265826f3d39c01027de73d09872be7f7</th>\n",
       "      <td>5</td>\n",
       "      <td>2</td>\n",
       "    </tr>\n",
       "    <tr>\n",
       "      <th>4a0df9b06c7e58f5da00f7985ccef6f52ca1fb6a9d714eb68d5861399e023427</th>\n",
       "      <td>4</td>\n",
       "      <td>3</td>\n",
       "    </tr>\n",
       "    <tr>\n",
       "      <th>059b10950ee999efb6a8b69308586198994871484c92c5a3d382b92596f0ae4e</th>\n",
       "      <td>3</td>\n",
       "      <td>4</td>\n",
       "    </tr>\n",
       "    <tr>\n",
       "      <th>23eda967e2fae546ab95c37638703918059751c028808935ff7b4719a152ace2</th>\n",
       "      <td>3</td>\n",
       "      <td>5</td>\n",
       "    </tr>\n",
       "    <tr>\n",
       "      <th>41325d896e948cac459cb3e67736220aa071f5a729b128311f1d53b7a8e4a00a</th>\n",
       "      <td>3</td>\n",
       "      <td>6</td>\n",
       "    </tr>\n",
       "    <tr>\n",
       "      <th>67dccee32f7f347241922b5c7562b8bc73cf39bcb3513a553db013347767ff21</th>\n",
       "      <td>3</td>\n",
       "      <td>7</td>\n",
       "    </tr>\n",
       "    <tr>\n",
       "      <th>6c83fc5ec41ead6ea3336a98e7d3614b98876a2972de11c542770858568d86f4</th>\n",
       "      <td>3</td>\n",
       "      <td>8</td>\n",
       "    </tr>\n",
       "    <tr>\n",
       "      <th>b9330373e4bedeb20a2f69647256a73167024508805f3cd9a152ba6bfdf1e86f</th>\n",
       "      <td>3</td>\n",
       "      <td>9</td>\n",
       "    </tr>\n",
       "  </tbody>\n",
       "</table>\n",
       "</div>"
      ],
      "text/plain": [
       "                                                    project_id Rank\n",
       "actor_id                                                           \n",
       "467a3f755fafd35efc28ff5ebacd193c61c5e9ba388a847...          28    0\n",
       "bc188c488365e40112cd8777498260562997f67fbb5e647...           6    1\n",
       "597e4ce0a9ceaa8481e296ea0a93a86f265826f3d39c010...           5    2\n",
       "4a0df9b06c7e58f5da00f7985ccef6f52ca1fb6a9d714eb...           4    3\n",
       "059b10950ee999efb6a8b69308586198994871484c92c5a...           3    4\n",
       "23eda967e2fae546ab95c37638703918059751c02880893...           3    5\n",
       "41325d896e948cac459cb3e67736220aa071f5a729b1283...           3    6\n",
       "67dccee32f7f347241922b5c7562b8bc73cf39bcb3513a5...           3    7\n",
       "6c83fc5ec41ead6ea3336a98e7d3614b98876a2972de11c...           3    8\n",
       "b9330373e4bedeb20a2f69647256a73167024508805f3cd...           3    9"
      ]
     },
     "execution_count": 26,
     "metadata": {},
     "output_type": "execute_result"
    }
   ],
   "source": [
    "# Top 10 Actors by number of projects\n",
    "\n",
    "matrix = small\n",
    "matrix = matrix.drop('id',1)\n",
    "matrix = matrix.drop('started_at',1)\n",
    "matrix = matrix.drop('ended_at',1)\n",
    "matrix = matrix.drop('account_id',1)\n",
    "matrix = matrix.drop('project_size',1)\n",
    "matrix = matrix.drop('duration',1)\n",
    "\n",
    "by_actors = matrix.groupby('actor_id')\n",
    "\n",
    "proj = pd.DataFrame(by_actors.project_id.count().nlargest(10))\n",
    "proj['Rank'] = ['0','1','2','3','4','5','6','7','8','9']\n",
    "proj"
   ]
  },
  {
   "cell_type": "markdown",
   "metadata": {},
   "source": [
    "#2 Provide a five-number summary of usage for each week, and a five-number summary of total usage per account for each week"
   ]
  },
  {
   "cell_type": "markdown",
   "metadata": {},
   "source": [
    "The provided data did not specify weeks or days so it is not possible to know if these events happend on different weeks or the same week."
   ]
  },
  {
   "cell_type": "code",
   "execution_count": 27,
   "metadata": {},
   "outputs": [
    {
     "data": {
      "text/html": [
       "<div>\n",
       "<style scoped>\n",
       "    .dataframe tbody tr th:only-of-type {\n",
       "        vertical-align: middle;\n",
       "    }\n",
       "\n",
       "    .dataframe tbody tr th {\n",
       "        vertical-align: top;\n",
       "    }\n",
       "\n",
       "    .dataframe thead th {\n",
       "        text-align: right;\n",
       "    }\n",
       "</style>\n",
       "<table border=\"1\" class=\"dataframe\">\n",
       "  <thead>\n",
       "    <tr style=\"text-align: right;\">\n",
       "      <th></th>\n",
       "      <th>started_at</th>\n",
       "      <th>ended_at</th>\n",
       "      <th>project_size</th>\n",
       "      <th>duration</th>\n",
       "    </tr>\n",
       "  </thead>\n",
       "  <tbody>\n",
       "    <tr>\n",
       "      <th>count</th>\n",
       "      <td>385</td>\n",
       "      <td>385</td>\n",
       "      <td>3.850000e+02</td>\n",
       "      <td>385</td>\n",
       "    </tr>\n",
       "    <tr>\n",
       "      <th>mean</th>\n",
       "      <td>0 days 00:29:27.058961</td>\n",
       "      <td>0 days 00:34:21.702337</td>\n",
       "      <td>8.443356e+04</td>\n",
       "      <td>0 days 00:04:54.643376</td>\n",
       "    </tr>\n",
       "    <tr>\n",
       "      <th>std</th>\n",
       "      <td>0 days 00:17:43.292524</td>\n",
       "      <td>0 days 00:19:44.779277</td>\n",
       "      <td>5.283407e+05</td>\n",
       "      <td>0 days 00:08:21.591207</td>\n",
       "    </tr>\n",
       "    <tr>\n",
       "      <th>min</th>\n",
       "      <td>0 days 00:00:03.600000</td>\n",
       "      <td>0 days 00:00:32.300000</td>\n",
       "      <td>5.000000e+00</td>\n",
       "      <td>0 days 00:00:00.100000</td>\n",
       "    </tr>\n",
       "    <tr>\n",
       "      <th>25%</th>\n",
       "      <td>0 days 00:14:03.100000</td>\n",
       "      <td>0 days 00:18:21.900000</td>\n",
       "      <td>5.650000e+02</td>\n",
       "      <td>0 days 00:00:43.300000</td>\n",
       "    </tr>\n",
       "    <tr>\n",
       "      <th>50%</th>\n",
       "      <td>0 days 00:29:00.400000</td>\n",
       "      <td>0 days 00:33:26.900000</td>\n",
       "      <td>1.030400e+04</td>\n",
       "      <td>0 days 00:01:35.100000</td>\n",
       "    </tr>\n",
       "    <tr>\n",
       "      <th>75%</th>\n",
       "      <td>0 days 00:45:04.600000</td>\n",
       "      <td>0 days 00:50:06.300000</td>\n",
       "      <td>4.444100e+04</td>\n",
       "      <td>0 days 00:05:19.800000</td>\n",
       "    </tr>\n",
       "    <tr>\n",
       "      <th>max</th>\n",
       "      <td>0 days 00:59:55.700000</td>\n",
       "      <td>0 days 01:40:21.400000</td>\n",
       "      <td>7.281072e+06</td>\n",
       "      <td>0 days 00:57:00.300000</td>\n",
       "    </tr>\n",
       "  </tbody>\n",
       "</table>\n",
       "</div>"
      ],
      "text/plain": [
       "                   started_at                ended_at  project_size  \\\n",
       "count                     385                     385  3.850000e+02   \n",
       "mean   0 days 00:29:27.058961  0 days 00:34:21.702337  8.443356e+04   \n",
       "std    0 days 00:17:43.292524  0 days 00:19:44.779277  5.283407e+05   \n",
       "min    0 days 00:00:03.600000  0 days 00:00:32.300000  5.000000e+00   \n",
       "25%    0 days 00:14:03.100000  0 days 00:18:21.900000  5.650000e+02   \n",
       "50%    0 days 00:29:00.400000  0 days 00:33:26.900000  1.030400e+04   \n",
       "75%    0 days 00:45:04.600000  0 days 00:50:06.300000  4.444100e+04   \n",
       "max    0 days 00:59:55.700000  0 days 01:40:21.400000  7.281072e+06   \n",
       "\n",
       "                     duration  \n",
       "count                     385  \n",
       "mean   0 days 00:04:54.643376  \n",
       "std    0 days 00:08:21.591207  \n",
       "min    0 days 00:00:00.100000  \n",
       "25%    0 days 00:00:43.300000  \n",
       "50%    0 days 00:01:35.100000  \n",
       "75%    0 days 00:05:19.800000  \n",
       "max    0 days 00:57:00.300000  "
      ]
     },
     "execution_count": 27,
     "metadata": {},
     "output_type": "execute_result"
    }
   ],
   "source": [
    "# 5-Number Summary of Usage = Duration\n",
    "small.describe()"
   ]
  },
  {
   "cell_type": "code",
   "execution_count": 28,
   "metadata": {
    "scrolled": true
   },
   "outputs": [
    {
     "data": {
      "text/html": [
       "<div>\n",
       "<style scoped>\n",
       "    .dataframe tbody tr th:only-of-type {\n",
       "        vertical-align: middle;\n",
       "    }\n",
       "\n",
       "    .dataframe tbody tr th {\n",
       "        vertical-align: top;\n",
       "    }\n",
       "\n",
       "    .dataframe thead th {\n",
       "        text-align: right;\n",
       "    }\n",
       "</style>\n",
       "<table border=\"1\" class=\"dataframe\">\n",
       "  <thead>\n",
       "    <tr style=\"text-align: right;\">\n",
       "      <th></th>\n",
       "      <th>duration</th>\n",
       "    </tr>\n",
       "  </thead>\n",
       "  <tbody>\n",
       "    <tr>\n",
       "      <th>count</th>\n",
       "      <td>245</td>\n",
       "    </tr>\n",
       "    <tr>\n",
       "      <th>mean</th>\n",
       "      <td>0 days 00:07:43.011020</td>\n",
       "    </tr>\n",
       "    <tr>\n",
       "      <th>std</th>\n",
       "      <td>0 days 00:12:33.966038</td>\n",
       "    </tr>\n",
       "    <tr>\n",
       "      <th>min</th>\n",
       "      <td>0 days 00:00:00.100000</td>\n",
       "    </tr>\n",
       "    <tr>\n",
       "      <th>25%</th>\n",
       "      <td>0 days 00:00:43.300000</td>\n",
       "    </tr>\n",
       "    <tr>\n",
       "      <th>50%</th>\n",
       "      <td>0 days 00:02:00.600000</td>\n",
       "    </tr>\n",
       "    <tr>\n",
       "      <th>75%</th>\n",
       "      <td>0 days 00:09:02.100000</td>\n",
       "    </tr>\n",
       "    <tr>\n",
       "      <th>max</th>\n",
       "      <td>0 days 01:21:46.100000</td>\n",
       "    </tr>\n",
       "  </tbody>\n",
       "</table>\n",
       "</div>"
      ],
      "text/plain": [
       "                     duration\n",
       "count                     245\n",
       "mean   0 days 00:07:43.011020\n",
       "std    0 days 00:12:33.966038\n",
       "min    0 days 00:00:00.100000\n",
       "25%    0 days 00:00:43.300000\n",
       "50%    0 days 00:02:00.600000\n",
       "75%    0 days 00:09:02.100000\n",
       "max    0 days 01:21:46.100000"
      ]
     },
     "execution_count": 28,
     "metadata": {},
     "output_type": "execute_result"
    }
   ],
   "source": [
    "# 5-Number Summary Per Account\n",
    "matrix = small\n",
    "matrix = matrix.drop('id',1)\n",
    "matrix = matrix.drop('started_at',1)\n",
    "matrix = matrix.drop('ended_at',1)\n",
    "matrix = matrix.drop('actor_id',1)\n",
    "matrix = matrix.drop('project_size',1)\n",
    "matrix = matrix.drop('project_id',1)\n",
    "\n",
    "by_account = matrix.groupby('account_id')\n",
    "\n",
    "ac_sum = pd.DataFrame(by_account.duration.sum())\n",
    "ac_sum.describe()"
   ]
  },
  {
   "cell_type": "markdown",
   "metadata": {},
   "source": [
    "The duration of the previous two tables vary because one is giving the total duration per an account and the other is simply given duration per a build. Thus, the max duration of a single build was arounds 53 minutes but if you sum all the builds in an account, there was an account that had a total duration of 1 hour and 21 minutes. It is also interesting to note that the min can be the same in both tables. This means that there is an account that had either a 0 second build or no build at all. Lastly, min and max may change because it is a random sampling."
   ]
  },
  {
   "cell_type": "markdown",
   "metadata": {},
   "source": [
    "#3 Provide some comments on the following: Where can a t-test be applied to these collections? Provide some examples of where it can and cannot, insights on why, and other implications"
   ]
  },
  {
   "cell_type": "markdown",
   "metadata": {},
   "source": [
    "A t-test asks whether a difference between two groups’ averages is unlikely to have occurred because of random chance in sample selection. A difference is more likely to be meaningful and “real” if\n",
    "(1) the difference between the averages is large,\n",
    "(2) the sample size is large, and\n",
    "(3) responses are consistently close to the average values and not widely spread out (the standard deviation is low).\n",
    "\n"
   ]
  },
  {
   "cell_type": "markdown",
   "metadata": {},
   "source": [
    "#4 Provide an analysis that shows the relationship between the following variables, along with insights drawn out and comments on your choices:\n",
    "- Total usage per account\n",
    "- Unique Actors per account\n",
    "- Two other variables"
   ]
  },
  {
   "cell_type": "code",
   "execution_count": null,
   "metadata": {},
   "outputs": [],
   "source": [
    "# Total Usage-Duration Per Account\n",
    "five_year_df = calcdf[calcdf.outlook.notnull()]\n",
    "five_year_df = five_year_df[five_year_df.five_year.notnull()]\n",
    "five_year_df\n",
    "\n",
    "x, y = five_year_df.outlook, five_year_df.five_year\n",
    "slope, intercept, r_value, p_value, std_err = stats.linregress(x,y)\n",
    "line = x*slope + intercept\n",
    "five_corr = plt.plot(x,y, 'x', x, line, color = 'black')\n",
    "plt.xlabel('% Positive Business Outlook')\n",
    "plt.ylabel('% Return on Investment')\n",
    "plt.show()\n",
    "\n",
    "print('Line Equation: Five Year Return = ({})*Outlook +{}'.format(slope,intercept))\n",
    "print('Line of Best Fit Correlation: {}'.format(r_value))"
   ]
  },
  {
   "cell_type": "markdown",
   "metadata": {},
   "source": []
  },
  {
   "cell_type": "code",
   "execution_count": null,
   "metadata": {},
   "outputs": [],
   "source": [
    "# Unique Actors Per Account"
   ]
  },
  {
   "cell_type": "markdown",
   "metadata": {},
   "source": []
  },
  {
   "cell_type": "code",
   "execution_count": null,
   "metadata": {},
   "outputs": [],
   "source": [
    "# Total Duration vs Actor"
   ]
  },
  {
   "cell_type": "markdown",
   "metadata": {},
   "source": []
  },
  {
   "cell_type": "code",
   "execution_count": null,
   "metadata": {},
   "outputs": [],
   "source": [
    "# Actors vs Accounts"
   ]
  },
  {
   "cell_type": "markdown",
   "metadata": {},
   "source": []
  },
  {
   "cell_type": "markdown",
   "metadata": {},
   "source": [
    "Spearman's correlation applies to ranks and so provides a measure of a monotonic relationship between two continuous random variables and is robust to outliers (unlike Pearson's correlation). Since the 5-number tables above show that the max values are much larger than the 75% value, there are outliers and its better to use Spearman's than Pearson's."
   ]
  },
  {
   "cell_type": "code",
   "execution_count": 42,
   "metadata": {
    "scrolled": false
   },
   "outputs": [
    {
     "name": "stdout",
     "output_type": "stream",
     "text": [
      "<class 'pandas.core.frame.DataFrame'>\n",
      "Int64Index: 385 entries, 0 to 385\n",
      "Data columns (total 8 columns):\n",
      "id              385 non-null object\n",
      "actor_id        385 non-null object\n",
      "project_id      385 non-null object\n",
      "account_id      385 non-null object\n",
      "started_at      385 non-null timedelta64[ns]\n",
      "ended_at        385 non-null timedelta64[ns]\n",
      "project_size    385 non-null float64\n",
      "duration        385 non-null timedelta64[ns]\n",
      "dtypes: float64(1), object(4), timedelta64[ns](3)\n",
      "memory usage: 27.1+ KB\n"
     ]
    }
   ],
   "source": [
    "small.info()"
   ]
  },
  {
   "cell_type": "code",
   "execution_count": 62,
   "metadata": {},
   "outputs": [
    {
     "name": "stderr",
     "output_type": "stream",
     "text": [
      "C:\\Users\\Kevin\\Anaconda3\\lib\\site-packages\\scipy\\stats\\stats.py:245: RuntimeWarning: The input array could not be properly checked for nan values. nan values will be ignored.\n",
      "  \"values. nan values will be ignored.\", RuntimeWarning)\n"
     ]
    },
    {
     "data": {
      "text/html": [
       "<div>\n",
       "<style scoped>\n",
       "    .dataframe tbody tr th:only-of-type {\n",
       "        vertical-align: middle;\n",
       "    }\n",
       "\n",
       "    .dataframe tbody tr th {\n",
       "        vertical-align: top;\n",
       "    }\n",
       "\n",
       "    .dataframe thead th {\n",
       "        text-align: right;\n",
       "    }\n",
       "</style>\n",
       "<table border=\"1\" class=\"dataframe\">\n",
       "  <thead>\n",
       "    <tr style=\"text-align: right;\">\n",
       "      <th></th>\n",
       "      <th>id</th>\n",
       "      <th>actor_id</th>\n",
       "      <th>project_id</th>\n",
       "      <th>account_id</th>\n",
       "      <th>started_at</th>\n",
       "      <th>ended_at</th>\n",
       "      <th>project_size</th>\n",
       "      <th>duration</th>\n",
       "    </tr>\n",
       "  </thead>\n",
       "  <tbody>\n",
       "    <tr>\n",
       "      <th>id</th>\n",
       "      <td>0.000</td>\n",
       "      <td>0.459</td>\n",
       "      <td>0.679</td>\n",
       "      <td>0.098</td>\n",
       "      <td>0.880</td>\n",
       "      <td>0.563</td>\n",
       "      <td>0.729</td>\n",
       "      <td>0.018</td>\n",
       "    </tr>\n",
       "    <tr>\n",
       "      <th>actor_id</th>\n",
       "      <td>0.459</td>\n",
       "      <td>0.000</td>\n",
       "      <td>0.238</td>\n",
       "      <td>0.068</td>\n",
       "      <td>0.275</td>\n",
       "      <td>0.474</td>\n",
       "      <td>0.056</td>\n",
       "      <td>0.575</td>\n",
       "    </tr>\n",
       "    <tr>\n",
       "      <th>project_id</th>\n",
       "      <td>0.679</td>\n",
       "      <td>0.238</td>\n",
       "      <td>0.000</td>\n",
       "      <td>0.247</td>\n",
       "      <td>0.844</td>\n",
       "      <td>0.689</td>\n",
       "      <td>0.000</td>\n",
       "      <td>0.965</td>\n",
       "    </tr>\n",
       "    <tr>\n",
       "      <th>account_id</th>\n",
       "      <td>0.098</td>\n",
       "      <td>0.068</td>\n",
       "      <td>0.247</td>\n",
       "      <td>0.000</td>\n",
       "      <td>0.186</td>\n",
       "      <td>0.165</td>\n",
       "      <td>0.000</td>\n",
       "      <td>0.366</td>\n",
       "    </tr>\n",
       "    <tr>\n",
       "      <th>started_at</th>\n",
       "      <td>0.880</td>\n",
       "      <td>0.275</td>\n",
       "      <td>0.844</td>\n",
       "      <td>0.186</td>\n",
       "      <td>0.000</td>\n",
       "      <td>0.000</td>\n",
       "      <td>0.878</td>\n",
       "      <td>0.103</td>\n",
       "    </tr>\n",
       "    <tr>\n",
       "      <th>ended_at</th>\n",
       "      <td>0.563</td>\n",
       "      <td>0.474</td>\n",
       "      <td>0.689</td>\n",
       "      <td>0.165</td>\n",
       "      <td>0.000</td>\n",
       "      <td>0.000</td>\n",
       "      <td>0.053</td>\n",
       "      <td>0.000</td>\n",
       "    </tr>\n",
       "    <tr>\n",
       "      <th>project_size</th>\n",
       "      <td>0.729</td>\n",
       "      <td>0.056</td>\n",
       "      <td>0.000</td>\n",
       "      <td>0.000</td>\n",
       "      <td>0.878</td>\n",
       "      <td>0.053</td>\n",
       "      <td>0.000</td>\n",
       "      <td>0.000</td>\n",
       "    </tr>\n",
       "    <tr>\n",
       "      <th>duration</th>\n",
       "      <td>0.018</td>\n",
       "      <td>0.575</td>\n",
       "      <td>0.965</td>\n",
       "      <td>0.366</td>\n",
       "      <td>0.103</td>\n",
       "      <td>0.000</td>\n",
       "      <td>0.000</td>\n",
       "      <td>0.000</td>\n",
       "    </tr>\n",
       "  </tbody>\n",
       "</table>\n",
       "</div>"
      ],
      "text/plain": [
       "                 id  actor_id  project_id  account_id  started_at  ended_at  \\\n",
       "id            0.000     0.459       0.679       0.098       0.880     0.563   \n",
       "actor_id      0.459     0.000       0.238       0.068       0.275     0.474   \n",
       "project_id    0.679     0.238       0.000       0.247       0.844     0.689   \n",
       "account_id    0.098     0.068       0.247       0.000       0.186     0.165   \n",
       "started_at    0.880     0.275       0.844       0.186       0.000     0.000   \n",
       "ended_at      0.563     0.474       0.689       0.165       0.000     0.000   \n",
       "project_size  0.729     0.056       0.000       0.000       0.878     0.053   \n",
       "duration      0.018     0.575       0.965       0.366       0.103     0.000   \n",
       "\n",
       "              project_size  duration  \n",
       "id                   0.729     0.018  \n",
       "actor_id             0.056     0.575  \n",
       "project_id           0.000     0.965  \n",
       "account_id           0.000     0.366  \n",
       "started_at           0.878     0.103  \n",
       "ended_at             0.053     0.000  \n",
       "project_size         0.000     0.000  \n",
       "duration             0.000     0.000  "
      ]
     },
     "execution_count": 62,
     "metadata": {},
     "output_type": "execute_result"
    }
   ],
   "source": [
    "rho, pval = stats.spearmanr(small)\n",
    "\n",
    "pvals = pd.DataFrame(pval, columns=['id','actor_id','project_id','account_id','started_at','ended_at','project_size','duration'])\n",
    "pvals = pvals.rename(index={0: 'id',1: 'actor_id',2: 'project_id',3: 'account_id',4: 'started_at',5: 'ended_at',6: 'project_size',7: 'duration'})\n",
    "round(pvals, 3)"
   ]
  },
  {
   "cell_type": "code",
   "execution_count": 63,
   "metadata": {},
   "outputs": [
    {
     "data": {
      "image/png": "[encoded data removed]",
      "text/plain": [
       "<Figure size 432x288 with 2 Axes>"
      ]
     },
     "metadata": {},
     "output_type": "display_data"
    }
   ],
   "source": [
    "mask = np.zeros_like(pvals)\n",
    "mask[np.triu_indices_from(mask)] = True\n",
    "with sns.axes_style(\"white\"):\n",
    "    p2 = sns.heatmap(pvals, mask=mask, square=True, cmap=\"PuOr\")"
   ]
  },
  {
   "cell_type": "code",
   "execution_count": 64,
   "metadata": {},
   "outputs": [
    {
     "name": "stderr",
     "output_type": "stream",
     "text": [
      "C:\\Users\\Kevin\\Anaconda3\\lib\\site-packages\\scipy\\stats\\stats.py:245: RuntimeWarning: The input array could not be properly checked for nan values. nan values will be ignored.\n",
      "  \"values. nan values will be ignored.\", RuntimeWarning)\n"
     ]
    },
    {
     "data": {
      "text/html": [
       "<div>\n",
       "<style scoped>\n",
       "    .dataframe tbody tr th:only-of-type {\n",
       "        vertical-align: middle;\n",
       "    }\n",
       "\n",
       "    .dataframe tbody tr th {\n",
       "        vertical-align: top;\n",
       "    }\n",
       "\n",
       "    .dataframe thead th {\n",
       "        text-align: right;\n",
       "    }\n",
       "</style>\n",
       "<table border=\"1\" class=\"dataframe\">\n",
       "  <thead>\n",
       "    <tr style=\"text-align: right;\">\n",
       "      <th></th>\n",
       "      <th>id</th>\n",
       "      <th>actor_id</th>\n",
       "      <th>project_id</th>\n",
       "      <th>account_id</th>\n",
       "      <th>started_at</th>\n",
       "      <th>ended_at</th>\n",
       "      <th>project_size</th>\n",
       "      <th>duration</th>\n",
       "    </tr>\n",
       "  </thead>\n",
       "  <tbody>\n",
       "    <tr>\n",
       "      <th>id</th>\n",
       "      <td>1.000</td>\n",
       "      <td>0.038</td>\n",
       "      <td>0.021</td>\n",
       "      <td>-0.084</td>\n",
       "      <td>0.008</td>\n",
       "      <td>-0.030</td>\n",
       "      <td>0.018</td>\n",
       "      <td>-0.121</td>\n",
       "    </tr>\n",
       "    <tr>\n",
       "      <th>actor_id</th>\n",
       "      <td>0.038</td>\n",
       "      <td>1.000</td>\n",
       "      <td>-0.060</td>\n",
       "      <td>-0.093</td>\n",
       "      <td>0.056</td>\n",
       "      <td>0.037</td>\n",
       "      <td>0.097</td>\n",
       "      <td>0.029</td>\n",
       "    </tr>\n",
       "    <tr>\n",
       "      <th>project_id</th>\n",
       "      <td>0.021</td>\n",
       "      <td>-0.060</td>\n",
       "      <td>1.000</td>\n",
       "      <td>0.059</td>\n",
       "      <td>-0.010</td>\n",
       "      <td>-0.020</td>\n",
       "      <td>-0.278</td>\n",
       "      <td>-0.002</td>\n",
       "    </tr>\n",
       "    <tr>\n",
       "      <th>account_id</th>\n",
       "      <td>-0.084</td>\n",
       "      <td>-0.093</td>\n",
       "      <td>0.059</td>\n",
       "      <td>1.000</td>\n",
       "      <td>0.068</td>\n",
       "      <td>0.071</td>\n",
       "      <td>-0.187</td>\n",
       "      <td>0.046</td>\n",
       "    </tr>\n",
       "    <tr>\n",
       "      <th>started_at</th>\n",
       "      <td>0.008</td>\n",
       "      <td>0.056</td>\n",
       "      <td>-0.010</td>\n",
       "      <td>0.068</td>\n",
       "      <td>1.000</td>\n",
       "      <td>0.927</td>\n",
       "      <td>0.008</td>\n",
       "      <td>0.083</td>\n",
       "    </tr>\n",
       "    <tr>\n",
       "      <th>ended_at</th>\n",
       "      <td>-0.030</td>\n",
       "      <td>0.037</td>\n",
       "      <td>-0.020</td>\n",
       "      <td>0.071</td>\n",
       "      <td>0.927</td>\n",
       "      <td>1.000</td>\n",
       "      <td>0.099</td>\n",
       "      <td>0.341</td>\n",
       "    </tr>\n",
       "    <tr>\n",
       "      <th>project_size</th>\n",
       "      <td>0.018</td>\n",
       "      <td>0.097</td>\n",
       "      <td>-0.278</td>\n",
       "      <td>-0.187</td>\n",
       "      <td>0.008</td>\n",
       "      <td>0.099</td>\n",
       "      <td>1.000</td>\n",
       "      <td>0.356</td>\n",
       "    </tr>\n",
       "    <tr>\n",
       "      <th>duration</th>\n",
       "      <td>-0.121</td>\n",
       "      <td>0.029</td>\n",
       "      <td>-0.002</td>\n",
       "      <td>0.046</td>\n",
       "      <td>0.083</td>\n",
       "      <td>0.341</td>\n",
       "      <td>0.356</td>\n",
       "      <td>1.000</td>\n",
       "    </tr>\n",
       "  </tbody>\n",
       "</table>\n",
       "</div>"
      ],
      "text/plain": [
       "                 id  actor_id  project_id  account_id  started_at  ended_at  \\\n",
       "id            1.000     0.038       0.021      -0.084       0.008    -0.030   \n",
       "actor_id      0.038     1.000      -0.060      -0.093       0.056     0.037   \n",
       "project_id    0.021    -0.060       1.000       0.059      -0.010    -0.020   \n",
       "account_id   -0.084    -0.093       0.059       1.000       0.068     0.071   \n",
       "started_at    0.008     0.056      -0.010       0.068       1.000     0.927   \n",
       "ended_at     -0.030     0.037      -0.020       0.071       0.927     1.000   \n",
       "project_size  0.018     0.097      -0.278      -0.187       0.008     0.099   \n",
       "duration     -0.121     0.029      -0.002       0.046       0.083     0.341   \n",
       "\n",
       "              project_size  duration  \n",
       "id                   0.018    -0.121  \n",
       "actor_id             0.097     0.029  \n",
       "project_id          -0.278    -0.002  \n",
       "account_id          -0.187     0.046  \n",
       "started_at           0.008     0.083  \n",
       "ended_at             0.099     0.341  \n",
       "project_size         1.000     0.356  \n",
       "duration             0.356     1.000  "
      ]
     },
     "execution_count": 64,
     "metadata": {},
     "output_type": "execute_result"
    }
   ],
   "source": [
    "rho, pval = stats.spearmanr(small)\n",
    "\n",
    "rhos = pd.DataFrame(rho, columns=['id','actor_id','project_id','account_id','started_at','ended_at','project_size','duration'])\n",
    "rhos = rhos.rename(index={0: 'id',1: 'actor_id',2: 'project_id',3: 'account_id',4: 'started_at',5: 'ended_at',6: 'project_size',7: 'duration'})\n",
    "round(rhos, 3)"
   ]
  },
  {
   "cell_type": "code",
   "execution_count": 54,
   "metadata": {},
   "outputs": [
    {
     "data": {
      "text/plain": [
       "(array([0.5, 1.5, 2.5, 3.5, 4.5, 5.5, 6.5, 7.5]),\n",
       " <a list of 8 Text xticklabel objects>)"
      ]
     },
     "execution_count": 54,
     "metadata": {},
     "output_type": "execute_result"
    },
    {
     "data": {
      "image/png": "[encoded data removed]",
      "text/plain": [
       "<Figure size 432x288 with 2 Axes>"
      ]
     },
     "metadata": {},
     "output_type": "display_data"
    }
   ],
   "source": [
    "sns.heatmap(rhos, square=True)\n",
    "plt.yticks(rotation=0)\n",
    "plt.xticks(rotation=90)"
   ]
  },
  {
   "cell_type": "code",
   "execution_count": 65,
   "metadata": {},
   "outputs": [
    {
     "data": {
      "text/html": [
       "<div>\n",
       "<style scoped>\n",
       "    .dataframe tbody tr th:only-of-type {\n",
       "        vertical-align: middle;\n",
       "    }\n",
       "\n",
       "    .dataframe tbody tr th {\n",
       "        vertical-align: top;\n",
       "    }\n",
       "\n",
       "    .dataframe thead th {\n",
       "        text-align: right;\n",
       "    }\n",
       "</style>\n",
       "<table border=\"1\" class=\"dataframe\">\n",
       "  <thead>\n",
       "    <tr style=\"text-align: right;\">\n",
       "      <th></th>\n",
       "      <th>1</th>\n",
       "      <th>2</th>\n",
       "      <th>P-Value</th>\n",
       "      <th>R</th>\n",
       "    </tr>\n",
       "  </thead>\n",
       "  <tbody>\n",
       "    <tr>\n",
       "      <th>0</th>\n",
       "      <td>started_at</td>\n",
       "      <td>ended_at</td>\n",
       "      <td>1.955306e-165</td>\n",
       "      <td>0.927212</td>\n",
       "    </tr>\n",
       "  </tbody>\n",
       "</table>\n",
       "</div>"
      ],
      "text/plain": [
       "            1         2        P-Value         R\n",
       "0  started_at  ended_at  1.955306e-165  0.927212"
      ]
     },
     "execution_count": 65,
     "metadata": {},
     "output_type": "execute_result"
    }
   ],
   "source": [
    "items = ['id','actor_id','project_id','account_id','started_at','ended_at','project_size','duration']\n",
    "arr = []\n",
    "\n",
    "for i in items:\n",
    "    for j in items:\n",
    "        if pvals.loc[i,j] <= 0.05 and (rhos.loc[i,j] > 0.5 or rhos.loc[i,j] < -0.5) and i != j and [j,i, pvals.loc[j,i], rhos.loc[j,i]] not in arr:\n",
    "            arr.append([i,j, pvals.loc[i,j], rhos.loc[i,j]])\n",
    "        \n",
    "\n",
    "arr = pd.DataFrame(arr,columns=['1','2','P-Value','R'])\n",
    "arr.sort_values('R', ascending = True)"
   ]
  },
  {
   "cell_type": "code",
   "execution_count": null,
   "metadata": {},
   "outputs": [],
   "source": []
  },
  {
   "cell_type": "markdown",
   "metadata": {
    "scrolled": false
   },
   "source": [
    "#5 Using these collections, determine what are the main drivers (if any) of usage/duration growth for accounts."
   ]
  },
  {
   "cell_type": "code",
   "execution_count": null,
   "metadata": {
    "scrolled": true
   },
   "outputs": [],
   "source": []
  }
 ],
 "metadata": {
  "kernelspec": {
   "display_name": "Python 3",
   "language": "python",
   "name": "python3"
  },
  "language_info": {
   "codemirror_mode": {
    "name": "ipython",
    "version": 3
   },
   "file_extension": ".py",
   "mimetype": "text/x-python",
   "name": "python",
   "nbconvert_exporter": "python",
   "pygments_lexer": "ipython3",
   "version": "3.6.5"
  }
 },
 "nbformat": 4,
 "nbformat_minor": 2
}
