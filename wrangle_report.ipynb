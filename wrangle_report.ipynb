{
 "cells": [
  {
   "cell_type": "markdown",
   "metadata": {},
   "source": [
    "2018\n",
    "\n",
    "Kevin"
   ]
  },
  {
   "cell_type": "markdown",
   "metadata": {},
   "source": [
    "# Internal Wrangle Report"
   ]
  },
  {
   "cell_type": "markdown",
   "metadata": {},
   "source": [
    "Wrangling the Twitter information for @dog_rates made me realize how messy and incomplete initial data can be. Yet, I enjoyed working with the Twitter data because it was something that a lot of people recognize. The percentage of time-related to wrangling this data also supports one of my previous projects which analyzed what data analyst spend the most time doing.\n",
    "\n",
    "The project showed me the importance of assessing and cleaning the data as well as how much time it can take. There were numerous times where I evaluated the data and then started cleaning the data before I realized I needed a new attribute (for example percent_rating) that I should have caught during the assessment. I would have to go back and then proceed to clean items that would affect my attributes. That showed me the value of thoroughly assessing the data.\n",
    "\n",
    "The cleaning was the most time-consuming part of wrangling the data. It was initially surprising how much work needed to be done. Even considering that most of the time not everything is cleaned. \n",
    "\n",
    "I also learned that importing from different sources can have varying levels of difficulty. I found CSV files were the easiest to work with and working with Twitter API and tweepy was the hardest because I never used it before. Since I was new to these, it required more researching and reading until I adequately understood it. However, this work could be even more time consuming if projects needed to use multiple APIs. Additionally, the larger the project, the more likely, the larger the code, which means a higher chance that there is an error.\n",
    "\n",
    "I also realized that when a dataset is created out of fun, like the We Rate Dogs Twitter stream, there might not be any statistically significant relationships.\n",
    "\n",
    "Overall, I appreciate my work and this experience."
   ]
  }
 ],
 "metadata": {
  "kernelspec": {
   "display_name": "Python 3",
   "language": "python",
   "name": "python3"
  },
  "language_info": {
   "codemirror_mode": {
    "name": "ipython",
    "version": 3
   },
   "file_extension": ".py",
   "mimetype": "text/x-python",
   "name": "python",
   "nbconvert_exporter": "python",
   "pygments_lexer": "ipython3",
   "version": "3.6.3"
  }
 },
 "nbformat": 4,
 "nbformat_minor": 2
}
